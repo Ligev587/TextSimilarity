{
 "cells": [
  {
   "cell_type": "markdown",
   "metadata": {},
   "source": [
    "## 数据预处理\n",
    "1. 生成train（ID、Rtitle、RContent、Atitle、AContent、Level）和test（ID、Rtitle、RContent、Atitle、AContent）文件，其中Rtitle、RContent、Atitle、AContent都是分词、去停用词之后的文本；\n",
    "\n",
    "2. 得到词汇表（索引从1开始，0用来决补齐操作），生成词向量"
   ]
  },
  {
   "cell_type": "code",
   "execution_count": 1,
   "metadata": {},
   "outputs": [
    {
     "name": "stderr",
     "output_type": "stream",
     "text": [
      "c:\\users\\administrator\\appdata\\local\\programs\\python\\python36\\lib\\site-packages\\gensim\\utils.py:1212: UserWarning: detected Windows; aliasing chunkize to chunkize_serial\n",
      "  warnings.warn(\"detected Windows; aliasing chunkize to chunkize_serial\")\n"
     ]
    }
   ],
   "source": [
    "import pandas as pd\n",
    "import numpy as np\n",
    "import jieba\n",
    "from collections import defaultdict\n",
    "import pickle\n",
    "import matplotlib.pyplot as plt\n",
    "plt.rcParams['font.sans-serif'] = ['SimHei']  # 用来正常显示中文标签\n",
    "plt.rcParams['axes.unicode_minus'] = False  # 用来正常显示负号\n",
    "from gensim.models import word2vec"
   ]
  },
  {
   "cell_type": "markdown",
   "metadata": {},
   "source": [
    "对技术需求、技术成果文本进行中文分词 确定词汇表"
   ]
  },
  {
   "cell_type": "code",
   "execution_count": 2,
   "metadata": {},
   "outputs": [],
   "source": [
    "requirements_path = \".//Requirements.csv\"  # 技术需求\n",
    "train_achievements_path = \".//Train_Achievements.csv\"  # 训练集中的技术成果\n",
    "test_achievements_path = \".//Test_Achievements.csv\"  # 测试集中的技术成果"
   ]
  },
  {
   "cell_type": "code",
   "execution_count": 3,
   "metadata": {},
   "outputs": [],
   "source": [
    "def read_doc(path, columns):\n",
    "    \"\"\"读取技术需求文档或者技术成果文档\"\"\"\n",
    "    data = []\n",
    "    for line in open(path, 'r', encoding='utf-8'):\n",
    "        lines = line.split(\",\")\n",
    "        data.append([lines[0].strip(), lines[1].strip(), \",\".join(lines[2:]).strip()])\n",
    "    return pd.DataFrame(data, columns=columns)"
   ]
  },
  {
   "cell_type": "code",
   "execution_count": 4,
   "metadata": {},
   "outputs": [],
   "source": [
    "requirements = read_doc(requirements_path, ['rid', 'rtitle', 'rcontent'])\n",
    "train_achievements = read_doc(train_achievements_path, ['aid', 'atitle', 'acontent'])\n",
    "test_achievements = read_doc(test_achievements_path, ['aid', 'atitle', 'acontent'])"
   ]
  },
  {
   "cell_type": "code",
   "execution_count": 5,
   "metadata": {},
   "outputs": [],
   "source": [
    "requirements['rid'] = requirements['rid'].apply(lambda x : x.replace(\"\"\"'\"\"\", \"\").replace(\"\"\"'\"\"\", \"\").replace(\" \", \"\"))\n",
    "train_achievements['aid'] = train_achievements['aid'].apply(lambda x : x.replace(\"\"\"'\"\"\", \"\").replace(\"\"\"'\"\"\", \"\").replace(\" \", \"\"))\n",
    "test_achievements['aid'] = test_achievements['aid'].apply(lambda x : x.replace(\"\"\"'\"\"\", \"\").replace(\"\"\"'\"\"\", \"\").replace(\" \", \"\"))"
   ]
  },
  {
   "cell_type": "code",
   "execution_count": 6,
   "metadata": {},
   "outputs": [],
   "source": [
    "\"\"\"加载停用词\"\"\"\n",
    "stopwords = set()\n",
    "for line in open(\".//HIT_stop_words.txt\", 'r', encoding='utf-8'):\n",
    "    stopwords.add(line.replace(\"\\n\", \"\"))\n",
    "\n",
    "\"\"\"文本分词函数\"\"\"\n",
    "def word_cut(text):\n",
    "    words = jieba.cut(text, cut_all=False)\n",
    "    words = [word for word in words if word not in stopwords]\n",
    "    return \" \".join(words)"
   ]
  },
  {
   "cell_type": "code",
   "execution_count": 7,
   "metadata": {},
   "outputs": [
    {
     "name": "stderr",
     "output_type": "stream",
     "text": [
      "Building prefix dict from the default dictionary ...\n",
      "Loading model from cache C:\\Users\\ADMINI~1\\AppData\\Local\\Temp\\jieba.cache\n",
      "Loading model cost 0.700 seconds.\n",
      "Prefix dict has been built succesfully.\n"
     ]
    }
   ],
   "source": [
    "title_maxlen = 20\n",
    "content_maxlen = 400\n",
    "requirements['rtitle_words'] = requirements['rtitle'].apply(lambda x : word_cut(x))\n",
    "requirements['rcontent_words'] = requirements['rcontent'].apply(lambda x : word_cut(x))\n",
    "train_achievements['atitle_words'] = train_achievements['atitle'].apply(lambda x : word_cut(x))\n",
    "train_achievements['acontent_words'] = train_achievements['acontent'].apply(lambda x : word_cut(x))\n",
    "test_achievements['atitle_words'] = test_achievements['atitle'].apply(lambda x : word_cut(x))\n",
    "test_achievements['acontent_words'] = test_achievements['acontent'].apply(lambda x : word_cut(x))"
   ]
  },
  {
   "cell_type": "code",
   "execution_count": 20,
   "metadata": {},
   "outputs": [],
   "source": [
    "# 查看分词后 title 和 content的长度分布\n",
    "title_len_count = {}\n",
    "content_len_count = {}\n",
    "\n",
    "for words in requirements['rcontent_words']:\n",
    "    words = words.split(\" \")\n",
    "    length = len(words)\n",
    "    if length not in content_len_count.keys():\n",
    "        content_len_count[length] = 0\n",
    "    content_len_count[length] += 1\n",
    "for words in train_achievements['acontent_words']:\n",
    "    words = words.split(\" \")\n",
    "    length = len(words)\n",
    "    if length not in content_len_count.keys():\n",
    "        content_len_count[length] = 0\n",
    "    content_len_count[length] += 1\n",
    "for words in test_achievements['acontent_words']:\n",
    "    words = words.split(\" \")\n",
    "    length = len(words)\n",
    "    if length not in content_len_count.keys():\n",
    "        content_len_count[length] = 0\n",
    "    content_len_count[length] += 1\n",
    "    \n",
    "for words in requirements['rtitle_words']:\n",
    "    words = words.split(\" \")\n",
    "    length = len(words)\n",
    "    if length not in title_len_count.keys():\n",
    "        title_len_count[length] = 0\n",
    "    title_len_count[length] += 1\n",
    "for words in train_achievements['atitle_words']:\n",
    "    words = words.split(\" \")\n",
    "    length = len(words)\n",
    "    if length not in title_len_count.keys():\n",
    "        title_len_count[length] = 0\n",
    "    title_len_count[length] += 1\n",
    "for words in test_achievements['atitle_words']:\n",
    "    words = words.split(\" \")\n",
    "    length = len(words)\n",
    "    if length not in title_len_count.keys():\n",
    "        title_len_count[length] = 0\n",
    "    title_len_count[length] += 1"
   ]
  },
  {
   "cell_type": "code",
   "execution_count": 23,
   "metadata": {},
   "outputs": [
    {
     "data": {
      "image/png": "[encoded data removed]",
      "text/plain": [
       "<Figure size 432x288 with 1 Axes>"
      ]
     },
     "metadata": {
      "needs_background": "light"
     },
     "output_type": "display_data"
    }
   ],
   "source": [
    "lens = []\n",
    "counts = []\n",
    "for key, value in title_len_count.items():\n",
    "    lens.append(key)\n",
    "    counts.append(value)\n",
    "plt.bar(lens, counts)\n",
    "plt.show()"
   ]
  },
  {
   "cell_type": "markdown",
   "metadata": {},
   "source": [
    "title的长度取 20   \n",
    "\n",
    "content的长度取 400"
   ]
  },
  {
   "cell_type": "code",
   "execution_count": 26,
   "metadata": {},
   "outputs": [],
   "source": [
    "word_count = {}  # 词汇_出现次数\n",
    "for data in [requirements['rcontent_words'], requirements['rtitle_words'], train_achievements['acontent_words'], train_achievements['atitle_words'], test_achievements['atitle_words'], test_achievements['acontent_words']]:\n",
    "    for words in data:\n",
    "        for word in words.split(\" \"):\n",
    "            if word not in word_count.keys():\n",
    "                word_count[word] = 0\n",
    "            word_count[word] += 1"
   ]
  },
  {
   "cell_type": "code",
   "execution_count": 27,
   "metadata": {},
   "outputs": [
    {
     "name": "stdout",
     "output_type": "stream",
     "text": [
      "74158\n"
     ]
    }
   ],
   "source": [
    "print(len(word_count))"
   ]
  },
  {
   "cell_type": "code",
   "execution_count": 33,
   "metadata": {},
   "outputs": [
    {
     "name": "stdout",
     "output_type": "stream",
     "text": [
      "25179\n"
     ]
    }
   ],
   "source": [
    "word2index = {}\n",
    "index = 1\n",
    "count = 0\n",
    "for key in word_count.keys():\n",
    "    if word_count[key] <= 5 or len(key) == 1:\n",
    "        count += 1\n",
    "    else:\n",
    "        word2index[key] = index\n",
    "        index += 1\n",
    "print(len(word2index))"
   ]
  },
  {
   "cell_type": "code",
   "execution_count": 37,
   "metadata": {},
   "outputs": [],
   "source": [
    "def filter_words(text):\n",
    "    tmp = []\n",
    "    for word in text.split(\" \"):\n",
    "        if word in word2index.keys():\n",
    "            tmp.append(word)\n",
    "    return \" \".join(tmp)"
   ]
  },
  {
   "cell_type": "code",
   "execution_count": 38,
   "metadata": {},
   "outputs": [
    {
     "name": "stdout",
     "output_type": "stream",
     "text": [
      "社会 不断\n"
     ]
    }
   ],
   "source": [
    "print(filter_words(\"社会 不断\"))"
   ]
  },
  {
   "cell_type": "code",
   "execution_count": 39,
   "metadata": {},
   "outputs": [],
   "source": [
    "# 过滤不在词汇表的词\n",
    "requirements['rtitle_words'] = requirements['rtitle_words'].apply(lambda x : filter_words(x))\n",
    "requirements['rcontent_words'] = requirements['rcontent_words'].apply(lambda x : filter_words(x))\n",
    "train_achievements['atitle_words'] = train_achievements['atitle_words'].apply(lambda x : filter_words(x))\n",
    "train_achievements['acontent_words'] = train_achievements['acontent_words'].apply(lambda x : filter_words(x))\n",
    "test_achievements['atitle_words'] = test_achievements['atitle_words'].apply(lambda x : filter_words(x))\n",
    "test_achievements['acontent_words'] = test_achievements['acontent_words'].apply(lambda x : filter_words(x))"
   ]
  },
  {
   "cell_type": "code",
   "execution_count": 40,
   "metadata": {},
   "outputs": [],
   "source": [
    "def judge_words(text):\n",
    "    for word in text.split(\" \"):\n",
    "        if word not in word2index.keys():\n",
    "            print(word)\n",
    "    return text"
   ]
  },
  {
   "cell_type": "code",
   "execution_count": 41,
   "metadata": {},
   "outputs": [],
   "source": [
    "requirements['rtitle_words'] = requirements['rtitle_words'].apply(lambda x : judge_words(x))\n",
    "requirements['rcontent_words'] = requirements['rcontent_words'].apply(lambda x : judge_words(x))\n",
    "train_achievements['atitle_words'] = train_achievements['atitle_words'].apply(lambda x : judge_words(x))\n",
    "train_achievements['acontent_words'] = train_achievements['acontent_words'].apply(lambda x : judge_words(x))\n",
    "test_achievements['atitle_words'] = test_achievements['atitle_words'].apply(lambda x : judge_words(x))\n",
    "test_achievements['acontent_words'] = test_achievements['acontent_words'].apply(lambda x : judge_words(x))"
   ]
  },
  {
   "cell_type": "code",
   "execution_count": 44,
   "metadata": {},
   "outputs": [],
   "source": [
    "from gensim.models import word2vec\n",
    "corpus = []\n",
    "for data in [requirements['rcontent_words'], requirements['rtitle_words'], train_achievements['acontent_words'], train_achievements['atitle_words'], test_achievements['atitle_words'], test_achievements['acontent_words']]:\n",
    "    for words in data:\n",
    "        corpus.append(words.split(\" \"))"
   ]
  },
  {
   "cell_type": "code",
   "execution_count": 46,
   "metadata": {},
   "outputs": [],
   "source": [
    "model = word2vec.Word2Vec(corpus, size=200, hs=1, min_count=1, window=5)"
   ]
  },
  {
   "cell_type": "code",
   "execution_count": 49,
   "metadata": {},
   "outputs": [
    {
     "name": "stdout",
     "output_type": "stream",
     "text": [
      "铸钢 0.623816728591919\n",
      "耐磨 0.5283143520355225\n",
      "铝及 0.5122253894805908\n",
      "轧辊 0.5096081495285034\n",
      "铜合金 0.5036332011222839\n",
      "厚壁 0.48569416999816895\n",
      "双金属 0.4788305461406708\n",
      "钛合金 0.47431057691574097\n",
      "不锈钢 0.4700304865837097\n",
      "铸件 0.46754640340805054\n"
     ]
    }
   ],
   "source": [
    "for i in model.wv.most_similar(u\"铸铁\"):\n",
    "    print (i[0],i[1])"
   ]
  },
  {
   "cell_type": "code",
   "execution_count": 51,
   "metadata": {},
   "outputs": [],
   "source": [
    "model.save(\".//gensim-word2vec-200.model\")\n",
    "pickle.dump(word2index, open(\".//vocabulary.pkl\", \"wb\"))"
   ]
  },
  {
   "cell_type": "code",
   "execution_count": 52,
   "metadata": {},
   "outputs": [
    {
     "name": "stdout",
     "output_type": "stream",
     "text": [
      "Index(['rid', 'rtitle', 'rcontent', 'rtitle_words', 'rcontent_words'], dtype='object')\n",
      "Index(['aid', 'atitle', 'acontent', 'atitle_words', 'acontent_words'], dtype='object')\n",
      "Index(['aid', 'atitle', 'acontent', 'atitle_words', 'acontent_words'], dtype='object')\n"
     ]
    }
   ],
   "source": [
    "print(requirements.columns)\n",
    "print(train_achievements.columns)\n",
    "print(test_achievements.columns)"
   ]
  },
  {
   "cell_type": "code",
   "execution_count": 53,
   "metadata": {},
   "outputs": [],
   "source": [
    "requirements = requirements[['rid', 'rtitle_words', 'rcontent_words']]\n",
    "train_achievements = train_achievements[['aid', 'atitle_words', 'acontent_words']]\n",
    "test_achievements = test_achievements[['aid', 'atitle_words', 'acontent_words']]"
   ]
  },
  {
   "cell_type": "code",
   "execution_count": 54,
   "metadata": {},
   "outputs": [],
   "source": [
    "requirements.to_csv(\".//requirements_words.csv\", index=None, encoding=\"utf-8\")\n",
    "train_achievements.to_csv(\".//train_achievements_words.csv\", index=None, encoding=\"utf-8\")\n",
    "test_achievements.to_csv(\".//test_achievements_words.csv\", index=None, encoding=\"utf-8\")"
   ]
  },
  {
   "cell_type": "code",
   "execution_count": 55,
   "metadata": {},
   "outputs": [],
   "source": [
    "train_path = \".//Train_Interrelation.csv\"\n",
    "test_path = \".//TestPrediction.csv\""
   ]
  },
  {
   "cell_type": "code",
   "execution_count": 56,
   "metadata": {},
   "outputs": [],
   "source": [
    "train = pd.read_csv(open(train_path, \"r\", encoding=\"utf-8\"), header=0, names=['id', 'aid','rid', 'level'])\n",
    "test = pd.read_csv(open(test_path, \"r\", encoding=\"utf-8\"), header=0, names=['id', 'aid','rid', 'level'])"
   ]
  },
  {
   "cell_type": "code",
   "execution_count": 57,
   "metadata": {},
   "outputs": [],
   "source": [
    "# 进行关联操作\n",
    "train_data = pd.merge(train, requirements, on='rid')\n",
    "train_data = pd.merge(train_data, train_achievements, on='aid')"
   ]
  },
  {
   "cell_type": "code",
   "execution_count": 58,
   "metadata": {},
   "outputs": [],
   "source": [
    "test_data = pd.merge(test, requirements, on='rid')\n",
    "test_data = pd.merge(test_data, test_achievements, on='aid')"
   ]
  },
  {
   "cell_type": "code",
   "execution_count": 59,
   "metadata": {},
   "outputs": [],
   "source": [
    "train_data.to_csv(\".//train.csv\", index=None, encoding=\"utf-8\")\n",
    "test_data.to_csv(\".//test.csv\", index=None, encoding=\"utf-8\")"
   ]
  },
  {
   "cell_type": "code",
   "execution_count": 61,
   "metadata": {},
   "outputs": [
    {
     "name": "stdout",
     "output_type": "stream",
     "text": [
      "00663e38-1a01-45c7-b214-74a5db890d0b\n"
     ]
    }
   ],
   "source": [
    "for id in test['id']:\n",
    "    if id not in list(test_data['id']):\n",
    "        print(id)"
   ]
  },
  {
   "cell_type": "code",
   "execution_count": null,
   "metadata": {},
   "outputs": [],
   "source": []
  }
 ],
 "metadata": {
  "kernelspec": {
   "display_name": "Python 3",
   "language": "python",
   "name": "python3"
  },
  "language_info": {
   "codemirror_mode": {
    "name": "ipython",
    "version": 3
   },
   "file_extension": ".py",
   "mimetype": "text/x-python",
   "name": "python",
   "nbconvert_exporter": "python",
   "pygments_lexer": "ipython3",
   "version": "3.6.6"
  }
 },
 "nbformat": 4,
 "nbformat_minor": 2
}
